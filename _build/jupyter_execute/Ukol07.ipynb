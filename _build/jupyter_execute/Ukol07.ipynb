{
 "cells": [
  {
   "cell_type": "markdown",
   "id": "5101bfff",
   "metadata": {},
   "source": [
    "# Úkol 7"
   ]
  },
  {
   "cell_type": "markdown",
   "id": "762a171b",
   "metadata": {},
   "source": [
    "1. Naprogramujte [Halleyho metodu](https://en.wikipedia.org/wiki/Halley%27s_method) a najděte kořen funkce $f(x)=x^{2}+\\sin(x/5)-1/4$ v intervalu 0 až 100 (počáteční body omezující řešení jsou 0 a 100). **(1.0 b)**"
   ]
  },
  {
   "cell_type": "code",
   "execution_count": 1,
   "id": "655a5154",
   "metadata": {},
   "outputs": [],
   "source": [
    "# kod\n",
    "\n"
   ]
  }
 ],
 "metadata": {
  "kernelspec": {
   "display_name": "Python 3 (ipykernel)",
   "language": "python",
   "name": "python3"
  },
  "language_info": {
   "codemirror_mode": {
    "name": "ipython",
    "version": 3
   },
   "file_extension": ".py",
   "mimetype": "text/x-python",
   "name": "python",
   "nbconvert_exporter": "python",
   "pygments_lexer": "ipython3",
   "version": "3.9.13"
  }
 },
 "nbformat": 4,
 "nbformat_minor": 5
}