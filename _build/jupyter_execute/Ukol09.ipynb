{
 "cells": [
  {
   "cell_type": "markdown",
   "id": "5101bfff",
   "metadata": {},
   "source": [
    "# Úkol 9"
   ]
  },
  {
   "cell_type": "markdown",
   "id": "762a171b",
   "metadata": {},
   "source": [
    "1. Monte-Carlo metodou vypočtěte <a href=\"https://www.wolframalpha.com/input?i=sin%28x%29exp%28cos%28x%29%29\">integrál</a> $\\int_{0}^{\\pi} \\sin(x)\\exp[\\cos(x)]\\,dx$. **(1 b)**"
   ]
  },
  {
   "cell_type": "code",
   "execution_count": 1,
   "id": "655a5154",
   "metadata": {},
   "outputs": [],
   "source": [
    "# kod\n",
    "\n"
   ]
  }
 ],
 "metadata": {
  "kernelspec": {
   "display_name": "Python 3 (ipykernel)",
   "language": "python",
   "name": "python3"
  },
  "language_info": {
   "codemirror_mode": {
    "name": "ipython",
    "version": 3
   },
   "file_extension": ".py",
   "mimetype": "text/x-python",
   "name": "python",
   "nbconvert_exporter": "python",
   "pygments_lexer": "ipython3",
   "version": "3.9.13"
  }
 },
 "nbformat": 4,
 "nbformat_minor": 5
}