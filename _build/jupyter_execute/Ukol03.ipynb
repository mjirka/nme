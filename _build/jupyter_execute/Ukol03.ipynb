{
 "cells": [
  {
   "cell_type": "markdown",
   "id": "42dda3af",
   "metadata": {},
   "source": [
    "# Úkol 3"
   ]
  },
  {
   "cell_type": "markdown",
   "id": "cdc723a8",
   "metadata": {},
   "source": [
    "1. Gauss-Jordanovou metodou vypočítejte inverzní matici $\\mathbb{A}^{-1}$ pro \n",
    "\n",
    "$\\mathbb{A}=\n",
    "\\begin{pmatrix}\n",
    "1 & -1 & 3\\\\\n",
    "2 & 1 & 2\\\\\n",
    "-2& -2 & 1\n",
    "\\end{pmatrix}\n",
    "$. **(1.0 b)**\n",
    "\n",
    "(Pro ověření svého řešení můžete použít funkci `np.linalg.inv()`.)"
   ]
  },
  {
   "cell_type": "code",
   "execution_count": 1,
   "id": "9a52069f",
   "metadata": {},
   "outputs": [],
   "source": [
    "import numpy as np\n",
    "\n",
    "A = np.array([\n",
    "[1,-1,3],\n",
    "[2,1,2],\n",
    "[-2,-2,1]\n",
    "])\n"
   ]
  }
 ],
 "metadata": {
  "kernelspec": {
   "display_name": "Python 3 (ipykernel)",
   "language": "python",
   "name": "python3"
  },
  "language_info": {
   "codemirror_mode": {
    "name": "ipython",
    "version": 3
   },
   "file_extension": ".py",
   "mimetype": "text/x-python",
   "name": "python",
   "nbconvert_exporter": "python",
   "pygments_lexer": "ipython3",
   "version": "3.9.13"
  }
 },
 "nbformat": 4,
 "nbformat_minor": 5
}