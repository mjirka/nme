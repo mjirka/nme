{
 "cells": [
  {
   "cell_type": "markdown",
   "id": "42dda3af",
   "metadata": {},
   "source": [
    "# Úkol 5"
   ]
  },
  {
   "cell_type": "markdown",
   "id": "cdc723a8",
   "metadata": {},
   "source": [
    "1. Naprogramujte výpočet interpolačního polynomu pomocí [Nevillova algoritmu](https://en.wikipedia.org/wiki/Neville%27s_algorithm) (viz přednáška) v bodě -0.5, pokud znáte $x=\\{-4, -1, 2\\}$ a $f(x)=\\{-28, -16, -40\\}$. **(1.0 b)**"
   ]
  },
  {
   "cell_type": "code",
   "execution_count": 1,
   "id": "9a52069f",
   "metadata": {},
   "outputs": [],
   "source": [
    "# vas kod"
   ]
  }
 ],
 "metadata": {
  "kernelspec": {
   "display_name": "Python 3 (ipykernel)",
   "language": "python",
   "name": "python3"
  },
  "language_info": {
   "codemirror_mode": {
    "name": "ipython",
    "version": 3
   },
   "file_extension": ".py",
   "mimetype": "text/x-python",
   "name": "python",
   "nbconvert_exporter": "python",
   "pygments_lexer": "ipython3",
   "version": "3.9.13"
  }
 },
 "nbformat": 4,
 "nbformat_minor": 5
}
