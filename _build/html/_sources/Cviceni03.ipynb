{
 "cells": [
  {
   "cell_type": "markdown",
   "id": "53f707b5",
   "metadata": {},
   "source": [
    "# Numerické metody lineární algebry"
   ]
  },
  {
   "cell_type": "markdown",
   "id": "736a8801",
   "metadata": {},
   "source": [
    "Naimportujeme si knihovny potřebné pro následující příklady:"
   ]
  },
  {
   "cell_type": "code",
   "execution_count": 1,
   "id": "9928b316",
   "metadata": {},
   "outputs": [],
   "source": [
    "import numpy as np"
   ]
  },
  {
   "cell_type": "markdown",
   "id": "f87c2acc",
   "metadata": {},
   "source": [
    "## Násobení matic"
   ]
  },
  {
   "cell_type": "markdown",
   "id": "61a05ce5",
   "metadata": {},
   "source": [
    "<div class=\"alert alert-block alert-warning\"><b>Cvičení 03.01: </b> Napište program pro násobení matic $\\mathbb{A}$ and $\\mathbb{B}$.</div>"
   ]
  },
  {
   "cell_type": "code",
   "execution_count": 2,
   "id": "990c9b50",
   "metadata": {},
   "outputs": [
    {
     "name": "stdout",
     "output_type": "stream",
     "text": [
      "[[ -3.7  -7.4 -11.1 -14.8 -25.9]\n",
      " [ 22.5  26.   30.5  25.    2. ]\n",
      " [ 26.   29.   37.   36.   50. ]\n",
      " [ 20.   21.   23.   20.   12. ]\n",
      " [ 14.   21.   29.   26.    7. ]]\n"
     ]
    }
   ],
   "source": [
    "A = np.array([\n",
    "[0, -3.7, 0, 0],\n",
    "[1, 2, 3, 4.5],\n",
    "[5, 4, 3, 2],\n",
    "[1, 2, 3, 2],\n",
    "[1, 3, 1, 5]\n",
    "])\n",
    "\n",
    "B = np.array([\n",
    "[1, 1, 2, 2, 6],\n",
    "[1, 2, 3, 4, 7],\n",
    "[5, 4, 3, 2, 0],\n",
    "[1, 2, 3, 2, -4]\n",
    "])\n",
    "\n",
    "pocet_radku = A.shape[0]\n",
    "pocet_sloupcu = B.shape[1]\n",
    "C = np.zeros((pocet_radku,pocet_sloupcu))\n",
    "\n",
    "# vlozte kod\n",
    "\n",
    "C_kontrola = np.dot(A,B)\n",
    "print(C_kontrola)"
   ]
  },
  {
   "cell_type": "markdown",
   "id": "d99e6d78",
   "metadata": {},
   "source": [
    "## Přímé metody pro řešení lineárních rovnic $\\mathbb{A}\\mathbf{x}=\\mathbf{b}$\n",
    "1. Gaussova metoda\n",
    "2. Gauss-Jordanova metoda\n",
    "3. LU dekompozice"
   ]
  },
  {
   "cell_type": "markdown",
   "id": "4de7ae4c",
   "metadata": {},
   "source": [
    "### Gaussova metoda"
   ]
  },
  {
   "cell_type": "markdown",
   "id": "9b10be47",
   "metadata": {},
   "source": [
    "* **Přímý běh:** matici $\\mathbb{A}$ převedeme na trojúhleníkový tvar.\n",
    "* **Zpětný běh:** vypočítáme složky vektoru $\\mathbf{x}$."
   ]
  },
  {
   "cell_type": "markdown",
   "id": "ba9f5383",
   "metadata": {},
   "source": [
    "#### Řešení soustav s trojúhelníkovou maticí"
   ]
  },
  {
   "cell_type": "markdown",
   "id": "da3664b5",
   "metadata": {},
   "source": [
    " * Při převodou matice $\\mathbb{A}$ na trojúhelníkový tvar hraje roli výběr hlavního prvku $a_{11}$ (pivotu) matice $\\mathbb{A}$ (v důsledku omezené přesnosti čísel v počítači)\n",
    "  * Příklad na [pivoting](http://kfe.fjfi.cvut.cz/~vachal/edu/nme/cviceni/02_linalg/DOCS/priklad_pivoting.pdf)\n",
    " * Následuje zpětný běh, ve kterém vypočítáme složky vektoru $\\mathbf{x}$ ve směru klesajícího indexu $i$:\n",
    "$x_{i}=\\dfrac{b_{i}-\\sum_{j=i+1}^{n-1}a_{ij}x_{j}}{a_{ii}}$ kde $i= n-1, n-2,..., 0$"
   ]
  },
  {
   "cell_type": "markdown",
   "id": "69d1adf7",
   "metadata": {},
   "source": [
    "<div class=\"alert alert-block alert-warning\"><b>Cvičení 03.02: </b> Vyřeště soustavu lineárních  rovnic s horní trojúhlenikovou maticí.</div>"
   ]
  },
  {
   "cell_type": "code",
   "execution_count": 3,
   "id": "eb784bea",
   "metadata": {
    "scrolled": true
   },
   "outputs": [
    {
     "name": "stdout",
     "output_type": "stream",
     "text": [
      "Kontrola: x =  [[2.]\n",
      " [5.]\n",
      " [4.]]\n"
     ]
    }
   ],
   "source": [
    "#\n",
    "# zpetny beh\n",
    "\n",
    "A = np.array([[6,9,21],[0,21,-57],[0,0,78]]) # matice v hornim trojuhelnikovem tvaru\n",
    "b = np.array([[141,-123,312]]).T # vektor b\n",
    "\n",
    "x = np.zeros((3,1)) # neznamy vektor\n",
    "n = x.size # pocet prvku (3)\n",
    "\n",
    "# vlozte kod\n",
    "\n",
    "x_kontrola = np.linalg.solve(A,b)\n",
    "print('Kontrola: x = ',x_kontrola)"
   ]
  },
  {
   "cell_type": "markdown",
   "id": "ea8ce095",
   "metadata": {},
   "source": [
    "### Gauss-Jordanova metoda"
   ]
  },
  {
   "cell_type": "markdown",
   "id": "9ddaa3f8",
   "metadata": {},
   "source": [
    "* Matici $\\mathbb{A}$ převedeme na tvar, kdy jsou na hlavní diagonále samé jedničky\n",
    "* Touto metodou lze získat i inverzní matici $\\mathbb{A}^{-1}$\n",
    "* [Ukázka](http://kfe.fjfi.cvut.cz/~vachal/edu/nme/cviceni/02_linalg/DOCS/priklad_GaussJordan.pdf)"
   ]
  },
  {
   "cell_type": "markdown",
   "id": "d813a71a",
   "metadata": {},
   "source": [
    "### LU dekompozice"
   ]
  },
  {
   "cell_type": "markdown",
   "id": "e312cf83",
   "metadata": {},
   "source": [
    "* Matici $\\mathbb{A}$ lze rozepsat jako součin $\\mathbb{A}=\\mathbb{L}\\mathbb{U}$ \n",
    " * $\\mathbb{L}$ - matice v dolním trojúhelníkovém tvaru, na hlavní diagonále má jedničky\n",
    " * $\\mathbb{U}$ - matice v horním trojúhelníkovém tvaru, na hlavní diagonále má nenulové prvky\n",
    "* [Poznámky](http://kfe.fjfi.cvut.cz/~vachal/edu/nme/cviceni/02_linalg/DOCS/teorie_LU_dekompozice.pdf) k LU rozkladu\n",
    "* LU dekompozice pomocí [Croutova algoritmu](http://kfe.fjfi.cvut.cz/~limpouch/numet/02-linalg-CZ.pdf):\n",
    " * $u_{ij}=a_{ij}-\\sum_{k=1}^{i-1}l_{ik}u_{kj}$ pro $i\\le j$\n",
    " * $l_{ij}=\\left(a_{ij}-\\sum_{k=1}^{j-1}l_{ik}u_{kj}\\right)/u_{jj}$ pro $i>j$"
   ]
  },
  {
   "cell_type": "markdown",
   "id": "42ef4187",
   "metadata": {},
   "source": [
    "<div class=\"alert alert-block alert-warning\"><b>Cvičení 03.03: </b> Nalezněte matice $\\mathbb{L}$ a $\\mathbb{U}$ pro matici $\\mathbb{A}=\n",
    "\\begin{pmatrix}\n",
    "4 & 3\\\\\n",
    "6 & 3\n",
    "\\end{pmatrix}$.</div>"
   ]
  },
  {
   "cell_type": "code",
   "execution_count": 4,
   "id": "c751d66d",
   "metadata": {},
   "outputs": [
    {
     "name": "stdout",
     "output_type": "stream",
     "text": [
      "Matice L =  [[1. 0.]\n",
      " [0. 1.]]\n",
      "Matice U =  [[0. 0.]\n",
      " [0. 0.]]\n"
     ]
    }
   ],
   "source": [
    "#\n",
    "# matice A\n",
    "A = np.array([\n",
    "[4,3],\n",
    "[6,3],\n",
    "])\n",
    "\n",
    "n = A.shape[0] # pocet radku matice A\n",
    "U = np.zeros((n, n)) # nulova matice, ze ktere postupne vytvorime horni trojuhlenikovou matici\n",
    "L = np.eye(n) # jednotkova matice, ze ktere postupne vytvorime dolni trojuhlenikovou matici\n",
    "\n",
    "# vlozte kod\n",
    "\n",
    "print('Matice L = ',L)\n",
    "print('Matice U = ',U)\n"
   ]
  },
  {
   "cell_type": "markdown",
   "id": "6c61b2c6",
   "metadata": {},
   "source": [
    "## Speciální typy matic"
   ]
  },
  {
   "cell_type": "markdown",
   "id": "f45d3add",
   "metadata": {},
   "source": [
    "### Tridiagonální matice"
   ]
  },
  {
   "cell_type": "markdown",
   "id": "1afd69ae",
   "metadata": {},
   "source": [
    "* Matice s kladnými prvky na hlavní a první pod- a naddiagonále. \n",
    "* Ukážeme si implementaci [algoritmu](http://kfe.fjfi.cvut.cz/~limpouch/numet/02-linalg-CZ.pdf) řešení soustavy lineárních rovnic s tridiagonální maticí."
   ]
  },
  {
   "cell_type": "markdown",
   "id": "ad9fc63a",
   "metadata": {},
   "source": [
    "<div class=\"alert alert-block alert-warning\"><b>Cvičení 03.04: </b> Řešení soustavy lineárních rovnic s tridiagonální maticí.</div>"
   ]
  },
  {
   "cell_type": "code",
   "execution_count": 5,
   "id": "61a2e3b1",
   "metadata": {},
   "outputs": [
    {
     "name": "stdout",
     "output_type": "stream",
     "text": [
      "[[14.54464286]\n",
      " [-3.57924107]\n",
      " [ 3.98497024]\n",
      " [-0.15915179]\n",
      " [ 0.        ]]\n"
     ]
    }
   ],
   "source": [
    "#\n",
    "A = np.array([\n",
    "[0.0, 3.0, 8.0, 15.0],\n",
    "[1.0, 14.0, 9.0, 0.3],\n",
    "[0.8, 1.5, 7.0, 2.0],\n",
    "[3.0, 6.0, 0.0, 11.0]\n",
    "])\n",
    "\n",
    "n = A.shape[0] # pocet radku vstupni matice\n",
    "\n",
    "c = A[:,0] # pod diagonalou\n",
    "a = A[:,1] # diagonala\n",
    "b = A[:,2] # nad diagonalou\n",
    "f = A[:,3] # prava strana\n",
    "\n",
    "x   = np.zeros((n+1,1)) # vektor reseni\n",
    "\n",
    "# pomocne vektory\n",
    "\n",
    "rho = np.zeros((n+1,1)) \n",
    "mu  = np.zeros((n+1,1)) \n",
    "\n",
    "for i in range(n):# primy beh\n",
    "    mu[i+1]  = -b[i] / ( c[i]*mu[i] + a[i] )\n",
    "    rho[i+1] = ( f[i] - c[i]*rho[i] ) / ( c[i]*mu[i] + a[i] )\n",
    "\n",
    "for i in range(n-1,-1,-1): # zpetny beh\n",
    "    x[i] = mu[i+1]*x[i+1] + rho[i+1]\n",
    "\n",
    "print(x)\n"
   ]
  }
 ],
 "metadata": {
  "kernelspec": {
   "display_name": "Python 3 (ipykernel)",
   "language": "python",
   "name": "python3"
  },
  "language_info": {
   "codemirror_mode": {
    "name": "ipython",
    "version": 3
   },
   "file_extension": ".py",
   "mimetype": "text/x-python",
   "name": "python",
   "nbconvert_exporter": "python",
   "pygments_lexer": "ipython3",
   "version": "3.9.13"
  }
 },
 "nbformat": 4,
 "nbformat_minor": 5
}
