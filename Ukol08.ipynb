{
 "cells": [
  {
   "cell_type": "markdown",
   "id": "5101bfff",
   "metadata": {},
   "source": [
    "# Úkol 8"
   ]
  },
  {
   "cell_type": "markdown",
   "id": "762a171b",
   "metadata": {},
   "source": [
    "1. Najděte minimum funkce $f(x)=-\\dfrac{1}{10}x+\\dfrac{1}{50}x^{2}+13$ pomocí kombinace metody dopředné diference a hledáním jejího nulového bodu metodou půlení intervalů. Vykreslete graf $f(x)$ a $f'(x)$ v okolí nalezeného minima. **(1 b)**\n",
    "\n"
   ]
  },
  {
   "cell_type": "code",
   "execution_count": 28,
   "id": "a7fdf009",
   "metadata": {},
   "outputs": [],
   "source": [
    "# kod"
   ]
  }
 ],
 "metadata": {
  "kernelspec": {
   "display_name": "Python 3 (ipykernel)",
   "language": "python",
   "name": "python3"
  },
  "language_info": {
   "codemirror_mode": {
    "name": "ipython",
    "version": 3
   },
   "file_extension": ".py",
   "mimetype": "text/x-python",
   "name": "python",
   "nbconvert_exporter": "python",
   "pygments_lexer": "ipython3",
   "version": "3.9.13"
  }
 },
 "nbformat": 4,
 "nbformat_minor": 5
}
