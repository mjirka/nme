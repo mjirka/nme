{
 "cells": [
  {
   "cell_type": "markdown",
   "id": "d9978e48",
   "metadata": {},
   "source": [
    "# Jupyter notebook a základy Pythonu"
   ]
  },
  {
   "cell_type": "markdown",
   "id": "9b3b7853",
   "metadata": {},
   "source": [
    "<div class=\"alert alert-block alert-success\"><b>On-line interaktivní verze: </b> Pro spuštení interaktivní verze této stránky klikněte ve vrchním menu na <i class=\"fa fa-rocket\" aria-hidden=\"true\"></i> a zvolte <i>Binder</i>, ve kterém lze <i>Jupyter notebook</i> (JP) upravovat a následně uložit na disk.</div>"
   ]
  },
  {
   "cell_type": "markdown",
   "id": "fd0e6a02",
   "metadata": {},
   "source": [
    "<div class=\"alert alert-block alert-info\"><b>Tip: </b> Tento soubor je možné stáhnout kliknutím na <i class=\"fa fa-download\" aria-hidden=\"true\"></i>, a to ve formě <code>*.ipynb</code> pro pozdější off-line editaci v prostředí <a href=\"https://www.anaconda.com/\">Anaconda</a>, nebo pro on-line editaci v <a href=\"https://colab.research.google.com/\">Google Colab</a>.</div>"
   ]
  },
  {
   "cell_type": "markdown",
   "id": "c5252b08",
   "metadata": {},
   "source": [
    "## Interaktivní Jupyter notebook"
   ]
  },
  {
   "cell_type": "markdown",
   "id": "42f2669a",
   "metadata": {},
   "source": [
    "Napište `print('Hello, World!')` a stiskněte `Shift` `+` `Enter` (nebo `Ctrl` `+` `Enter`)"
   ]
  },
  {
   "cell_type": "code",
   "execution_count": 1,
   "id": "b0648bc0",
   "metadata": {
    "scrolled": true
   },
   "outputs": [
    {
     "name": "stdout",
     "output_type": "stream",
     "text": [
      "Hello, World\n"
     ]
    }
   ],
   "source": [
    "print('Hello, World')"
   ]
  },
  {
   "cell_type": "markdown",
   "id": "b721cc85",
   "metadata": {},
   "source": [
    "Pomocí klávesy `b` vložíte další řádek do JP.\n",
    "* Stiskněte `b`."
   ]
  },
  {
   "cell_type": "markdown",
   "id": "6ee35abd",
   "metadata": {},
   "source": [
    "Odstranění řádku: vyberte řádek v JP a stiskněte `d` `+` `d`"
   ]
  },
  {
   "cell_type": "markdown",
   "id": "90db19d6",
   "metadata": {},
   "source": [
    "Klávesou `a` vložíte nový řádek nad právě vybraný.\n",
    "1. Stiskněte `a`. \n",
    "2. Vyberte tento nový řádek a stiskněte `m`. Nyní lze do řádku místo kódu zapisovat text,\n",
    "3. Zadávání ukončíte stisknutím kombinace `Shift` `+` `Enter`.\n",
    "4. Pokud chcete řádek převést na kód, stiskněte `y`.\n"
   ]
  },
  {
   "cell_type": "markdown",
   "id": "b9d676c5",
   "metadata": {},
   "source": [
    "**Pro nápovědu stiskněte `h`.**"
   ]
  },
  {
   "cell_type": "markdown",
   "id": "af3c3908",
   "metadata": {},
   "source": [
    "## Python"
   ]
  },
  {
   "cell_type": "markdown",
   "id": "da9593e8",
   "metadata": {},
   "source": [
    "Jednořádkový komentář se zadává za znak `#`, více řádků lze zakomentovat pomocí `\"\"\"` a `\"\"\"`:"
   ]
  },
  {
   "cell_type": "code",
   "execution_count": 2,
   "id": "3c111cdf",
   "metadata": {
    "scrolled": true
   },
   "outputs": [
    {
     "name": "stdout",
     "output_type": "stream",
     "text": [
      "Hello, World!\n"
     ]
    }
   ],
   "source": [
    "# toto je komentar\n",
    "\"\"\"\n",
    "Komentar\n",
    "na vice\n",
    "radku...\n",
    "\"\"\"\n",
    "print(\"Hello, World!\") "
   ]
  },
  {
   "cell_type": "markdown",
   "id": "0f57beed",
   "metadata": {},
   "source": [
    "Inicializace proměnných `a`, `b`, základní aritmetické operace a výpis výsledku pomocí funkce `print()`:"
   ]
  },
  {
   "cell_type": "code",
   "execution_count": 3,
   "id": "fd430961",
   "metadata": {
    "scrolled": true
   },
   "outputs": [
    {
     "name": "stdout",
     "output_type": "stream",
     "text": [
      "Soucet  48.0\n",
      "Rozdil  38.0\n",
      "Soucin  215.0\n",
      "Podil  8.6\n",
      "Mocnina  147008443.0\n",
      "Zbytek po deleni  3.0\n"
     ]
    }
   ],
   "source": [
    "a=43\n",
    "b=5.0\n",
    "\n",
    "soucet=a+b\n",
    "rozdil=a-b\n",
    "soucin=a*b\n",
    "podil=a/b\n",
    "mocnina=a**b\n",
    "zbytek_po_deleni = a%b\n",
    "\n",
    "# vypis\n",
    "print('Soucet ',soucet)\n",
    "print('Rozdil ',rozdil)\n",
    "print('Soucin ',soucin)\n",
    "print('Podil ',podil)\n",
    "print('Mocnina ',mocnina)\n",
    "print('Zbytek po deleni ',zbytek_po_deleni)\n",
    "\n"
   ]
  },
  {
   "cell_type": "markdown",
   "id": "d7072c21",
   "metadata": {},
   "source": [
    "<div class=\"alert alert-block alert-warning\"><b>Cvičení 01.01: </b> Vypočtěte objem jehlanu o stranách 3 a 4 majiícího výšku 7. </div>"
   ]
  },
  {
   "cell_type": "code",
   "execution_count": 4,
   "id": "f8e7c0b1",
   "metadata": {
    "scrolled": false
   },
   "outputs": [
    {
     "name": "stdout",
     "output_type": "stream",
     "text": [
      "28.0\n"
     ]
    }
   ],
   "source": [
    "a=3.0\n",
    "b=4.0\n",
    "v=7.0\n",
    "S=a*b\n",
    "V=1/3*S*v\n",
    "print(V)"
   ]
  },
  {
   "cell_type": "markdown",
   "id": "6838de97",
   "metadata": {},
   "source": [
    "## Podmínkové cykly"
   ]
  },
  {
   "cell_type": "markdown",
   "id": "b2d380fc",
   "metadata": {},
   "source": [
    "### If ... else"
   ]
  },
  {
   "cell_type": "markdown",
   "id": "14d141a1",
   "metadata": {},
   "source": [
    "<div class=\"alert alert-block alert-danger\"><b>Pozor:</b> vnitřní části kódu je <b>nutné odsadit</b>, obvykle se používají <b>čtyři mezery</b>.</div>"
   ]
  },
  {
   "cell_type": "markdown",
   "id": "ea6851c8",
   "metadata": {},
   "source": [
    "Za klíčovými slovy `if` a `else` musíme psát `:`."
   ]
  },
  {
   "cell_type": "code",
   "execution_count": 5,
   "id": "0fb89fd4",
   "metadata": {},
   "outputs": [
    {
     "name": "stdout",
     "output_type": "stream",
     "text": [
      "musi to byt nula\n",
      "Tento text se vypise vzdy.\n"
     ]
    }
   ],
   "source": [
    "cislo = 0\n",
    "if cislo > 0:\n",
    "    print(cislo, \"je kladne.\")\n",
    "elif cislo <0:\n",
    "    print(cislo, \"je zaporne\")\n",
    "else:\n",
    "    print(\"musi to byt nula\")    \n",
    "print(\"Tento text se vypise vzdy.\")"
   ]
  },
  {
   "cell_type": "markdown",
   "id": "8c21a903",
   "metadata": {},
   "source": [
    "### For ..."
   ]
  },
  {
   "cell_type": "markdown",
   "id": "666cc6c5",
   "metadata": {},
   "source": [
    "Zde využijeme funkci `range(min,max,krok)`, která vytvoří sekvenci celých čísel od `min` po `max` ***(prvek max není v sekvenci obsažen)*** s uvedeným krokem. Výchozí hodnoty jsou `min = 0` a `krok = 1`."
   ]
  },
  {
   "cell_type": "code",
   "execution_count": 6,
   "id": "579b2696",
   "metadata": {},
   "outputs": [
    {
     "name": "stdout",
     "output_type": "stream",
     "text": [
      "0\n",
      "1\n",
      "2\n",
      "3\n",
      "4\n",
      "5\n",
      "6\n",
      "7\n",
      "8\n",
      "9\n"
     ]
    }
   ],
   "source": [
    "for x in range(10):\n",
    "    print(x)"
   ]
  },
  {
   "cell_type": "markdown",
   "id": "da5a3417",
   "metadata": {},
   "source": [
    "### While..."
   ]
  },
  {
   "cell_type": "code",
   "execution_count": 7,
   "id": "73794ecf",
   "metadata": {},
   "outputs": [
    {
     "name": "stdout",
     "output_type": "stream",
     "text": [
      "0\n",
      "1\n",
      "2\n",
      "3\n",
      "4\n",
      "5\n",
      "6\n",
      "7\n",
      "8\n",
      "9\n"
     ]
    }
   ],
   "source": [
    "cislo = 0\n",
    "while cislo < 10:\n",
    "  print(cislo)\n",
    "  cislo = cislo+1 # ekvivalenti zapis je take: cislo += 1"
   ]
  },
  {
   "cell_type": "markdown",
   "id": "04c65198",
   "metadata": {},
   "source": [
    "### Break"
   ]
  },
  {
   "cell_type": "markdown",
   "id": "f01a45e2",
   "metadata": {},
   "source": [
    "Pomocí příkazu `break` se ukončí probíhající cyklus. Pokud je cyklus vnořený, ukončí se pouze tento vnořený cyklus. V následujícím příkladu využijeme funkci `len()` která nám vrátí délku seznamu vytvořeného pomocí `range()`."
   ]
  },
  {
   "cell_type": "code",
   "execution_count": 8,
   "id": "0af09a98",
   "metadata": {},
   "outputs": [
    {
     "name": "stdout",
     "output_type": "stream",
     "text": [
      "Cislo:  0\n",
      "Pocitadlo:  0\n",
      "Cislo:  1\n",
      "Pocitadlo:  1\n",
      "Hotovo\n"
     ]
    }
   ],
   "source": [
    "# Ze seznamu cislic 0,1,2,... chci vypsat pouze prvni dve cislice. \n",
    "seznam_cislic = range(0,5)\n",
    "\n",
    "for cislo in range(0, len(seznam_cislic)):\n",
    "    if cislo == 2:\n",
    "        break\n",
    "    else:\n",
    "        print('Cislo: ',seznam_cislic[cislo])\n",
    "    print('Pocitadlo: ',cislo)\n",
    "print(\"Hotovo\")"
   ]
  },
  {
   "cell_type": "markdown",
   "id": "593dafc2",
   "metadata": {},
   "source": [
    "### Continue"
   ]
  },
  {
   "cell_type": "markdown",
   "id": "810aec7e",
   "metadata": {},
   "source": [
    "Příkaz `continue` ukončí aktuální iteraci v cyklu a pokračuje další iterací."
   ]
  },
  {
   "cell_type": "code",
   "execution_count": 9,
   "id": "bc4a9d66",
   "metadata": {},
   "outputs": [
    {
     "name": "stdout",
     "output_type": "stream",
     "text": [
      "Cislo:  0\n",
      "Pocitadlo:  0\n",
      "Cislo:  1\n",
      "Pocitadlo:  1\n",
      "Cislo:  3\n",
      "Pocitadlo:  3\n",
      "Cislo:  4\n",
      "Pocitadlo:  4\n",
      "Hotovo\n"
     ]
    }
   ],
   "source": [
    "# Ze seznamu cislic 0,1,2,... chci vypsat vsechny cislice, krome dvojky. \n",
    "seznam_cislic = range(0,5)\n",
    "\n",
    "for cislo in range(0, len(seznam_cislic)):\n",
    "    if cislo == 2:\n",
    "        continue\n",
    "    else:\n",
    "        print('Cislo: ',seznam_cislic[cislo])\n",
    "    print('Pocitadlo: ',cislo)\n",
    "print(\"Hotovo\")"
   ]
  },
  {
   "cell_type": "markdown",
   "id": "d6963427",
   "metadata": {},
   "source": [
    "## Funkce"
   ]
  },
  {
   "cell_type": "markdown",
   "id": "b8c532be",
   "metadata": {},
   "source": [
    "Funkce se definuje příkazem `def`. Následuje jméno funkce, seznam vstupních parametrů a vše je zakončené `:`. Tělo funkce musí být odsazené. Funkce může vrátit hodnotu pomocí příkazu `return`."
   ]
  },
  {
   "cell_type": "code",
   "execution_count": 10,
   "id": "8d4d1368",
   "metadata": {},
   "outputs": [
    {
     "name": "stdout",
     "output_type": "stream",
     "text": [
      "Objem jehlanu =  8.0\n"
     ]
    }
   ],
   "source": [
    "def objem_jehlanu(a,b,v):\n",
    "  return 1/3*a*b*v\n",
    "\n",
    "print(\"Objem jehlanu = \",objem_jehlanu(2,3,4))"
   ]
  },
  {
   "cell_type": "markdown",
   "id": "752c4109",
   "metadata": {},
   "source": [
    "<div class=\"alert alert-block alert-warning\"><b>Cvičení 01.02: </b> Napište funkci, která rozhodne, zda zadané číslo je liché, nebo sudé, a vypište výsledek. </div>"
   ]
  },
  {
   "cell_type": "code",
   "execution_count": 11,
   "id": "89ca0f09",
   "metadata": {},
   "outputs": [
    {
     "name": "stdout",
     "output_type": "stream",
     "text": [
      "Cislo  6  je sude.\n"
     ]
    }
   ],
   "source": [
    "def funkce(c):\n",
    "    if cislo % 2 == 0:\n",
    "        print('Cislo ',c,' je sude.')\n",
    "    else:\n",
    "        print('Cislo ',c,' je liche.')\n",
    "\n",
    "cislo = 6\n",
    "funkce(cislo)"
   ]
  },
  {
   "cell_type": "markdown",
   "id": "851a4b83",
   "metadata": {},
   "source": [
    "## Numerická knihovna numpy"
   ]
  },
  {
   "cell_type": "markdown",
   "id": "311930d4",
   "metadata": {},
   "source": [
    "Pro import numerické knihovny `numpy` použijeme příkaz:"
   ]
  },
  {
   "cell_type": "code",
   "execution_count": 12,
   "id": "2a728d2b",
   "metadata": {},
   "outputs": [],
   "source": [
    "import numpy as np"
   ]
  },
  {
   "cell_type": "markdown",
   "id": "e1228e67",
   "metadata": {},
   "source": [
    "### Maticové operace"
   ]
  },
  {
   "cell_type": "markdown",
   "id": "e85e1683",
   "metadata": {},
   "source": [
    "Pole (vektor, matice) lze vytvářet pomocí funkce `array()`:"
   ]
  },
  {
   "cell_type": "code",
   "execution_count": 13,
   "id": "a86dcef2",
   "metadata": {},
   "outputs": [],
   "source": [
    "# vektor\n",
    "a = np.array([1, 2, 3])\n",
    "\n",
    "# matice (pole)\n",
    "A = np.array([[1,2,3],[4,5,6],[7,8,9]])"
   ]
  },
  {
   "cell_type": "markdown",
   "id": "cbecdd4f",
   "metadata": {},
   "source": [
    "<div class=\"alert alert-block alert-danger\"><b>Pozor:</b> v poli <code>array</code> má <b>první prvek index 0</b>!</div>"
   ]
  },
  {
   "cell_type": "markdown",
   "id": "0f5b486f",
   "metadata": {},
   "source": [
    "Rozměry pole zjistíme pomocí funkce `shape`:"
   ]
  },
  {
   "cell_type": "code",
   "execution_count": 14,
   "id": "89ce0972",
   "metadata": {},
   "outputs": [
    {
     "name": "stdout",
     "output_type": "stream",
     "text": [
      "(3,)\n",
      "(3, 3)\n"
     ]
    }
   ],
   "source": [
    "print(a.shape)\n",
    "print(A.shape)"
   ]
  },
  {
   "cell_type": "markdown",
   "id": "03db48e9",
   "metadata": {},
   "source": [
    "Funkce `size` vrátí počet prvků v poli:"
   ]
  },
  {
   "cell_type": "code",
   "execution_count": 15,
   "id": "6e6cf36f",
   "metadata": {},
   "outputs": [
    {
     "name": "stdout",
     "output_type": "stream",
     "text": [
      "3\n",
      "9\n"
     ]
    }
   ],
   "source": [
    "print(a.size)\n",
    "print(A.size)"
   ]
  },
  {
   "cell_type": "markdown",
   "id": "e876c0e1",
   "metadata": {},
   "source": [
    "Matici lze transponovat funkcí `transpose()`:"
   ]
  },
  {
   "cell_type": "code",
   "execution_count": 16,
   "id": "58b0d0a8",
   "metadata": {},
   "outputs": [
    {
     "name": "stdout",
     "output_type": "stream",
     "text": [
      "[[1 4 7]\n",
      " [2 5 8]\n",
      " [3 6 9]]\n"
     ]
    }
   ],
   "source": [
    "A_transponovana = A.transpose()\n",
    "print(A_transponovana)"
   ]
  },
  {
   "cell_type": "markdown",
   "id": "0a9e7136",
   "metadata": {},
   "source": [
    "Pro vytváření polí lze používat následující generátory:"
   ]
  },
  {
   "cell_type": "markdown",
   "id": "45f68d25",
   "metadata": {},
   "source": [
    "* Pomocí funkce `arange()` vytvoříme pole s prvky od 0 do 10 **(poslední prvek není obsažen)** a krokem 1:"
   ]
  },
  {
   "cell_type": "code",
   "execution_count": 17,
   "id": "ef8a07f8",
   "metadata": {},
   "outputs": [
    {
     "name": "stdout",
     "output_type": "stream",
     "text": [
      "[0 1 2 3 4 5 6 7 8 9]\n"
     ]
    }
   ],
   "source": [
    "pole = np.arange(0,10,1)\n",
    "print(pole)"
   ]
  },
  {
   "cell_type": "markdown",
   "id": "d420d75b",
   "metadata": {},
   "source": [
    "* Pomocí funkce `linspace()` vygenerujeme pole s prvky od 0 do 10 **(včetně)**, přičemž počet prvků je 20:"
   ]
  },
  {
   "cell_type": "code",
   "execution_count": 18,
   "id": "c93f7c06",
   "metadata": {},
   "outputs": [
    {
     "name": "stdout",
     "output_type": "stream",
     "text": [
      "[ 0.          0.52631579  1.05263158  1.57894737  2.10526316  2.63157895\n",
      "  3.15789474  3.68421053  4.21052632  4.73684211  5.26315789  5.78947368\n",
      "  6.31578947  6.84210526  7.36842105  7.89473684  8.42105263  8.94736842\n",
      "  9.47368421 10.        ]\n"
     ]
    }
   ],
   "source": [
    "pole = np.linspace(0,10,20)\n",
    "print(pole)"
   ]
  },
  {
   "cell_type": "markdown",
   "id": "9661621c",
   "metadata": {},
   "source": [
    "* Příkazem `logspace()` vytvoříme pole od 0 do 10 s počtem prvků 20 v logaritmickém měřítku ($\\log_{10}$):"
   ]
  },
  {
   "cell_type": "code",
   "execution_count": 19,
   "id": "1f9a2653",
   "metadata": {},
   "outputs": [
    {
     "name": "stdout",
     "output_type": "stream",
     "text": [
      "[1.00000000e+00 3.35981829e+00 1.12883789e+01 3.79269019e+01\n",
      " 1.27427499e+02 4.28133240e+02 1.43844989e+03 4.83293024e+03\n",
      " 1.62377674e+04 5.45559478e+04 1.83298071e+05 6.15848211e+05\n",
      " 2.06913808e+06 6.95192796e+06 2.33572147e+07 7.84759970e+07\n",
      " 2.63665090e+08 8.85866790e+08 2.97635144e+09 1.00000000e+10]\n"
     ]
    }
   ],
   "source": [
    "pole = np.logspace(0,10,20,base=10)\n",
    "print(pole)"
   ]
  },
  {
   "cell_type": "markdown",
   "id": "c3d2f675",
   "metadata": {},
   "source": [
    "* Pomocí funkce `zeros()` vytvoříme nulovou matici 2x2:"
   ]
  },
  {
   "cell_type": "code",
   "execution_count": 20,
   "id": "3ef71059",
   "metadata": {
    "scrolled": true
   },
   "outputs": [
    {
     "name": "stdout",
     "output_type": "stream",
     "text": [
      "[[0. 0.]\n",
      " [0. 0.]]\n"
     ]
    }
   ],
   "source": [
    "pole = np.zeros((2,2))\n",
    "print(pole)"
   ]
  },
  {
   "cell_type": "markdown",
   "id": "9d49bbbf",
   "metadata": {},
   "source": [
    " * Funkcí `ones()` vytvoříme jedničkovou matici 3x3:"
   ]
  },
  {
   "cell_type": "code",
   "execution_count": 21,
   "id": "ae248187",
   "metadata": {},
   "outputs": [
    {
     "name": "stdout",
     "output_type": "stream",
     "text": [
      "[[1. 1. 1.]\n",
      " [1. 1. 1.]\n",
      " [1. 1. 1.]]\n"
     ]
    }
   ],
   "source": [
    "pole = np.ones((3,3))\n",
    "print(pole)"
   ]
  },
  {
   "cell_type": "markdown",
   "id": "d0fe6941",
   "metadata": {},
   "source": [
    "* Pomocí funkce `eye()` vytvoříme matici 3x3 s jedničkami na diagonále, ostatní hodnoty jsou nulové:"
   ]
  },
  {
   "cell_type": "code",
   "execution_count": 22,
   "id": "4a4d939e",
   "metadata": {},
   "outputs": [
    {
     "name": "stdout",
     "output_type": "stream",
     "text": [
      "[[1. 0. 0.]\n",
      " [0. 1. 0.]\n",
      " [0. 0. 1.]]\n"
     ]
    }
   ],
   "source": [
    "pole = np.eye(3)\n",
    "print(pole)"
   ]
  },
  {
   "cell_type": "markdown",
   "id": "e5284f01",
   "metadata": {},
   "source": [
    "* Pole náhodných čísel v rozmezí 0 az 1 se vygeneruje pomocí funkce `np.random.rand()`:"
   ]
  },
  {
   "cell_type": "code",
   "execution_count": 23,
   "id": "240b2c29",
   "metadata": {},
   "outputs": [
    {
     "name": "stdout",
     "output_type": "stream",
     "text": [
      "[[0.61459278 0.63305729]\n",
      " [0.89280065 0.82421926]\n",
      " [0.35401052 0.44801919]]\n"
     ]
    }
   ],
   "source": [
    "pole_nahodnych_cisel = np.random.rand(3,2)\n",
    "print(pole_nahodnych_cisel)"
   ]
  },
  {
   "cell_type": "markdown",
   "id": "5b230398",
   "metadata": {},
   "source": [
    "Pro přístup k prvkům pole `A` používáme syntaxi `A[i,j]`, kde `i` je index řádku a `j` je index sloupce:"
   ]
  },
  {
   "cell_type": "code",
   "execution_count": 24,
   "id": "344bf690",
   "metadata": {},
   "outputs": [
    {
     "name": "stdout",
     "output_type": "stream",
     "text": [
      "1\n"
     ]
    }
   ],
   "source": [
    "prvni_prvek_pole = A[0,0]\n",
    "print(prvni_prvek_pole)"
   ]
  },
  {
   "cell_type": "markdown",
   "id": "227daf0a",
   "metadata": {},
   "source": [
    "Pro přístup k prvkům pole používáme syntaxi `[min:max:krok]`. Mějme vektor $\\mathbf{v}=(0,1,2,3,4,5,6)$. Nyní z něj vyjmeme první (\"0\") až šestý prvek (\"5\"), a to s krokem 2:"
   ]
  },
  {
   "cell_type": "code",
   "execution_count": 25,
   "id": "af21ccc2",
   "metadata": {},
   "outputs": [
    {
     "name": "stdout",
     "output_type": "stream",
     "text": [
      "[0 1 2 3 4 5 6]\n",
      "[0 2 4]\n"
     ]
    }
   ],
   "source": [
    "v = np.arange(0,7)\n",
    "print(v)\n",
    "vyber_z_v = v[0:6:2]\n",
    "print(vyber_z_v)"
   ]
  },
  {
   "cell_type": "markdown",
   "id": "4b156f32",
   "metadata": {},
   "source": [
    "Podobně u matice $A$ vybereme např. poslední dva prvky ve třetím sloupci."
   ]
  },
  {
   "cell_type": "code",
   "execution_count": 26,
   "id": "3a201f17",
   "metadata": {},
   "outputs": [
    {
     "name": "stdout",
     "output_type": "stream",
     "text": [
      "[6 9]\n"
     ]
    }
   ],
   "source": [
    "A_vyber = A[1:,2]\n",
    "print(A_vyber)"
   ]
  },
  {
   "cell_type": "markdown",
   "id": "6fa37749",
   "metadata": {},
   "source": [
    "U matice $A$ vybereme první řádek:"
   ]
  },
  {
   "cell_type": "code",
   "execution_count": 27,
   "id": "ddf0d009",
   "metadata": {},
   "outputs": [
    {
     "name": "stdout",
     "output_type": "stream",
     "text": [
      "[1 2 3]\n"
     ]
    }
   ],
   "source": [
    "prvni_radek = A[0,:]\n",
    "print(prvni_radek)"
   ]
  },
  {
   "cell_type": "markdown",
   "id": "c51631f5",
   "metadata": {},
   "source": [
    "U matice $A$ vybereme první sloupec:"
   ]
  },
  {
   "cell_type": "code",
   "execution_count": 28,
   "id": "41e5a359",
   "metadata": {},
   "outputs": [
    {
     "name": "stdout",
     "output_type": "stream",
     "text": [
      "[1 4 7]\n"
     ]
    }
   ],
   "source": [
    "prvni_sloupec = A[:,0]\n",
    "print(prvni_sloupec)"
   ]
  },
  {
   "cell_type": "markdown",
   "id": "911af449",
   "metadata": {},
   "source": [
    "Násobení matic a vektorů se provádí pomocí operátoru `dot`:"
   ]
  },
  {
   "cell_type": "code",
   "execution_count": 29,
   "id": "132db16a",
   "metadata": {},
   "outputs": [
    {
     "name": "stdout",
     "output_type": "stream",
     "text": [
      "[[1 2 3]\n",
      " [4 5 6]]\n",
      "(2, 3)\n",
      "[[1 2]\n",
      " [3 4]\n",
      " [5 6]]\n",
      "(3, 2)\n",
      "[[22 28]\n",
      " [49 64]]\n"
     ]
    }
   ],
   "source": [
    "# matice 2x3\n",
    "A = np.array([[1,2,3],[4,5,6]])\n",
    "print(A)\n",
    "print(A.shape)\n",
    "\n",
    "# matice 3x2\n",
    "B = np.array([[1,2],[3,4],[5,6]])\n",
    "print(B)\n",
    "print(B.shape)\n",
    "\n",
    "# vysledek\n",
    "C = np.dot(A,B)\n",
    "print(C)\n"
   ]
  },
  {
   "cell_type": "markdown",
   "id": "8f346e85",
   "metadata": {},
   "source": [
    "<div class=\"alert alert-block alert-danger\"><b>Pozor:</b> operace <b>C*C</b> násobí matice po prvcích (není to maticové násobení)</div>"
   ]
  },
  {
   "cell_type": "code",
   "execution_count": 30,
   "id": "3adc6bd1",
   "metadata": {
    "scrolled": true
   },
   "outputs": [
    {
     "name": "stdout",
     "output_type": "stream",
     "text": [
      "[[1856 2408]\n",
      " [4214 5468]]\n",
      "[[ 484  784]\n",
      " [2401 4096]]\n"
     ]
    }
   ],
   "source": [
    "# maticove nasobeni\n",
    "print(np.dot(C,C))\n",
    "\n",
    "# nasobeni po prvcich\n",
    "print(C*C)"
   ]
  },
  {
   "cell_type": "markdown",
   "id": "ef73e5a6",
   "metadata": {},
   "source": [
    "### Funkce"
   ]
  },
  {
   "cell_type": "markdown",
   "id": "4bb7f2ac",
   "metadata": {},
   "source": [
    "`numpy` obsahuje často používané funkce a konstanty (napr. `sqrt()`, `log()`, `log10()`, `sin()`, `abs()`, `e`, `pi`, ...):"
   ]
  },
  {
   "cell_type": "code",
   "execution_count": 31,
   "id": "e2bf71fc",
   "metadata": {},
   "outputs": [
    {
     "name": "stdout",
     "output_type": "stream",
     "text": [
      "2.23606797749979\n",
      "1.6094379124341003\n",
      "0.6989700043360189\n",
      "-0.9589242746631385\n",
      "3\n",
      "2.718281828459045\n",
      "3.141592653589793\n"
     ]
    }
   ],
   "source": [
    "print(np.sqrt(5))\n",
    "print(np.log(5))\n",
    "print(np.log10(5))\n",
    "print(np.sin(5))\n",
    "print(np.abs(-3))\n",
    "print(np.e)\n",
    "print(np.pi)"
   ]
  },
  {
   "cell_type": "markdown",
   "id": "ecbd8c5e",
   "metadata": {},
   "source": [
    "Součet prvků v poli je dán funkcí `sum()`:"
   ]
  },
  {
   "cell_type": "code",
   "execution_count": 32,
   "id": "8a9e5b9b",
   "metadata": {},
   "outputs": [
    {
     "name": "stdout",
     "output_type": "stream",
     "text": [
      "21\n"
     ]
    }
   ],
   "source": [
    "# soucet prvku v poli\n",
    "soucet = np.sum(A)\n",
    "print(soucet)"
   ]
  },
  {
   "cell_type": "markdown",
   "id": "3205a20c",
   "metadata": {},
   "source": [
    "Minimální a maximální hodnotu v poli určíme funkcí `min()` a `max()`:"
   ]
  },
  {
   "cell_type": "code",
   "execution_count": 33,
   "id": "2e7c9570",
   "metadata": {},
   "outputs": [
    {
     "name": "stdout",
     "output_type": "stream",
     "text": [
      "6\n",
      "1\n"
     ]
    }
   ],
   "source": [
    "# maximalni hodnota v poli\n",
    "maximum = np.max(A)\n",
    "print(maximum)\n",
    "\n",
    "# minimalni hodnota v poli\n",
    "minimum = np.min(A)\n",
    "print(minimum)"
   ]
  },
  {
   "cell_type": "markdown",
   "id": "98b853d4",
   "metadata": {},
   "source": [
    "Funkce `average()` vrací průměrnou hodnotu; `std()` je směrodatná odchylka a `var()` je rozptyl:"
   ]
  },
  {
   "cell_type": "code",
   "execution_count": 34,
   "id": "25288dcf",
   "metadata": {},
   "outputs": [
    {
     "name": "stdout",
     "output_type": "stream",
     "text": [
      "3.5\n",
      "1.707825127659933\n",
      "2.9166666666666665\n"
     ]
    }
   ],
   "source": [
    "# prumerna hodnota\n",
    "prumer = np.average(A)\n",
    "print(prumer)\n",
    "\n",
    "# smerodatna odchylka\n",
    "smerodatna_odchylka = np.std(A)\n",
    "print(smerodatna_odchylka)\n",
    "\n",
    "# rozptyl\n",
    "rozptyl = np.var(A)\n",
    "print(rozptyl)"
   ]
  },
  {
   "cell_type": "markdown",
   "id": "2da1cf4f",
   "metadata": {},
   "source": [
    "Index prvku v poli lze najít pomocí funkce `argwhere()`:"
   ]
  },
  {
   "cell_type": "code",
   "execution_count": 35,
   "id": "3c5c3d53",
   "metadata": {},
   "outputs": [
    {
     "name": "stdout",
     "output_type": "stream",
     "text": [
      "[[0 2]]\n"
     ]
    }
   ],
   "source": [
    "index_hledaneho_prvku = np.argwhere(A == 3)\n",
    "print(index_hledaneho_prvku)"
   ]
  },
  {
   "cell_type": "markdown",
   "id": "4567bce0",
   "metadata": {},
   "source": [
    "<div class=\"alert alert-block alert-info\"><b>Tip: </b> Další příklady a návody pro práci s knihovnou <code>numpy</code> lze nalézt na <a href='https://numpy.org/'>https://numpy.org/</a>.</div>"
   ]
  },
  {
   "cell_type": "markdown",
   "id": "919d65ad",
   "metadata": {},
   "source": [
    "## Visualizace dat"
   ]
  },
  {
   "cell_type": "markdown",
   "id": "64414525",
   "metadata": {},
   "source": [
    "Pro kreslení grafů využijeme knihovnu `matplotlib.pyplot`:"
   ]
  },
  {
   "cell_type": "code",
   "execution_count": 36,
   "id": "2e20aa46",
   "metadata": {},
   "outputs": [],
   "source": [
    "import matplotlib.pyplot as plt"
   ]
  },
  {
   "cell_type": "markdown",
   "id": "4fea083a",
   "metadata": {},
   "source": [
    "### Graf jedné proměnné"
   ]
  },
  {
   "cell_type": "markdown",
   "id": "f4e29513",
   "metadata": {},
   "source": [
    "Vygenerujeme $x$ a $y$ hodnoty pro funkci `sin()`:"
   ]
  },
  {
   "cell_type": "code",
   "execution_count": 37,
   "id": "368b41d6",
   "metadata": {},
   "outputs": [],
   "source": [
    "x = np.linspace(0,4*np.pi,100)\n",
    "y = np.sin(x)"
   ]
  },
  {
   "cell_type": "markdown",
   "id": "3a3b05c7",
   "metadata": {},
   "source": [
    "Nejdříve je potřeba vytvořit obrázek pomocí `fig`. Vykreslení dat provedeme příkazem `plot()`:"
   ]
  },
  {
   "cell_type": "code",
   "execution_count": 38,
   "id": "4653055f",
   "metadata": {},
   "outputs": [
    {
     "data": {
      "text/plain": [
       "[<matplotlib.lines.Line2D at 0x7f3b78039d90>]"
      ]
     },
     "execution_count": 38,
     "metadata": {},
     "output_type": "execute_result"
    },
    {
     "data": {
      "image/png": "[encoded data removed]",
      "text/plain": [
       "<Figure size 432x288 with 1 Axes>"
      ]
     },
     "metadata": {
      "needs_background": "light"
     },
     "output_type": "display_data"
    }
   ],
   "source": [
    "fig, ax = plt.subplots()\n",
    "ax.plot(x,y)"
   ]
  },
  {
   "cell_type": "markdown",
   "id": "ed4fe7ec",
   "metadata": {},
   "source": [
    "Přidáme popisky os pomocí `set_xlabel()`, `set_ylabel()` a název grafu pomocí `set_title()`:"
   ]
  },
  {
   "cell_type": "code",
   "execution_count": 39,
   "id": "9fd2fa6f",
   "metadata": {},
   "outputs": [
    {
     "data": {
      "text/plain": [
       "Text(0.5, 1.0, 'Graf funkce sin(x)')"
      ]
     },
     "execution_count": 39,
     "metadata": {},
     "output_type": "execute_result"
    },
    {
     "data": {
      "image/png": "[encoded data removed]",
      "text/plain": [
       "<Figure size 432x288 with 1 Axes>"
      ]
     },
     "metadata": {
      "needs_background": "light"
     },
     "output_type": "display_data"
    }
   ],
   "source": [
    "fig, ax = plt.subplots()\n",
    "ax.plot(x,y)\n",
    "ax.set_xlabel('x')\n",
    "ax.set_ylabel('sin(x)')\n",
    "ax.set_title('Graf funkce sin(x)')"
   ]
  },
  {
   "cell_type": "markdown",
   "id": "fa6ca77e",
   "metadata": {},
   "source": [
    "Přidáme funkci `cos()`, nastavíme barvu (`color`), styl (`linestyle`) a šířku (`linewidth`) linky. Průhlednost se nastavuje parametrem `alpha`. Legendu zobrazíme příkazem `legend()`:"
   ]
  },
  {
   "cell_type": "code",
   "execution_count": 40,
   "id": "c1619906",
   "metadata": {},
   "outputs": [
    {
     "data": {
      "text/plain": [
       "<matplotlib.legend.Legend at 0x7f3b6c603e80>"
      ]
     },
     "execution_count": 40,
     "metadata": {},
     "output_type": "execute_result"
    },
    {
     "data": {
      "image/png": "[encoded data removed]",
      "text/plain": [
       "<Figure size 432x288 with 1 Axes>"
      ]
     },
     "metadata": {
      "needs_background": "light"
     },
     "output_type": "display_data"
    }
   ],
   "source": [
    "# funkce cos()\n",
    "y1 = np.cos(x)\n",
    "\n",
    "fig, ax = plt.subplots()\n",
    "ax.plot(x,y)\n",
    "\n",
    "# vykreslime funkci cos()\n",
    "ax.plot(x,y1, color='red',linestyle='dashed',linewidth=2,label='cos(x)',alpha=0.5)\n",
    "\n",
    "\n",
    "ax.set_xlabel('x')\n",
    "ax.set_ylabel('sin(x), cos(x)')\n",
    "ax.set_title('Grafy funkci sin(x) a cos(x)')\n",
    "ax.legend()"
   ]
  },
  {
   "cell_type": "markdown",
   "id": "bba2d973",
   "metadata": {},
   "source": [
    "Na závěr obrázek uložíme příkazem `savefig()`:"
   ]
  },
  {
   "cell_type": "code",
   "execution_count": 41,
   "id": "b1f2d97d",
   "metadata": {},
   "outputs": [],
   "source": [
    "fig.savefig(\"obrazek.png\", dpi=300)"
   ]
  },
  {
   "cell_type": "markdown",
   "id": "0e1500cd",
   "metadata": {},
   "source": [
    "### Visualizace závislosti dvou proměnných"
   ]
  },
  {
   "cell_type": "markdown",
   "id": "4a562496",
   "metadata": {},
   "source": [
    "Mějme funkci $z(x,y)$, která závisí na dvou proměnných $z(x,y)=\\exp(-\\sqrt{x^2+y^2})\\cos(2x)\\sin(2y)$, a vykreslíme její závislost v 2D grafu."
   ]
  },
  {
   "cell_type": "markdown",
   "id": "c37b2d03",
   "metadata": {},
   "source": [
    "Vytvoříme mřížku $x\\times y$ pomocí funkce `meshgrid()`:"
   ]
  },
  {
   "cell_type": "code",
   "execution_count": 42,
   "id": "83a35717",
   "metadata": {},
   "outputs": [
    {
     "data": {
      "image/png": "[encoded data removed]",
      "text/plain": [
       "<Figure size 432x288 with 1 Axes>"
      ]
     },
     "metadata": {
      "needs_background": "light"
     },
     "output_type": "display_data"
    }
   ],
   "source": [
    "fig, ax = plt.subplots()\n",
    "osa_x = np.linspace(-2, 2, 50)\n",
    "osa_y = np.linspace(-2, 2, 50)\n",
    "(x,y) = np.meshgrid(osa_x,osa_y)"
   ]
  },
  {
   "cell_type": "markdown",
   "id": "acb7ce7e",
   "metadata": {},
   "source": [
    "Spočítáme hodnoty funkce $z(x,y)$:"
   ]
  },
  {
   "cell_type": "code",
   "execution_count": 43,
   "id": "18bb8b31",
   "metadata": {},
   "outputs": [],
   "source": [
    "z = np.exp(-np.sqrt(x**2+y**2))*np.cos(2*x)*np.sin(2*y)"
   ]
  },
  {
   "cell_type": "markdown",
   "id": "28340d59",
   "metadata": {},
   "source": [
    "2D graf vykreslíme pomocí funkce `pcolor()` s parametrem `shading='auto'`:"
   ]
  },
  {
   "cell_type": "code",
   "execution_count": 44,
   "id": "1f1c4670",
   "metadata": {},
   "outputs": [
    {
     "data": {
      "text/plain": [
       "<matplotlib.collections.PolyCollection at 0x7f3b6bcb7e50>"
      ]
     },
     "execution_count": 44,
     "metadata": {},
     "output_type": "execute_result"
    },
    {
     "data": {
      "image/png": "[encoded data removed]",
      "text/plain": [
       "<Figure size 432x288 with 1 Axes>"
      ]
     },
     "metadata": {
      "needs_background": "light"
     },
     "output_type": "display_data"
    }
   ],
   "source": [
    "fig, ax = plt.subplots()\n",
    "osa_x = np.linspace(-2, 2, 50)\n",
    "osa_y = np.linspace(-2, 2, 50)\n",
    "(x,y) = np.meshgrid(osa_x,osa_y)\n",
    "z = np.exp(-np.sqrt(x**2+y**2))*np.cos(2*x)*np.sin(2*y)\n",
    "ax.pcolor(x,y,z,shading='auto')"
   ]
  },
  {
   "cell_type": "markdown",
   "id": "acbb8891",
   "metadata": {},
   "source": [
    "Kontury získáme použitím funkce `contour()`:"
   ]
  },
  {
   "cell_type": "code",
   "execution_count": 45,
   "id": "cc9d3f28",
   "metadata": {},
   "outputs": [
    {
     "data": {
      "text/plain": [
       "<matplotlib.contour.QuadContourSet at 0x7f3b6bad3af0>"
      ]
     },
     "execution_count": 45,
     "metadata": {},
     "output_type": "execute_result"
    },
    {
     "data": {
      "image/png": "[encoded data removed]",
      "text/plain": [
       "<Figure size 432x288 with 1 Axes>"
      ]
     },
     "metadata": {
      "needs_background": "light"
     },
     "output_type": "display_data"
    }
   ],
   "source": [
    "fig, ax = plt.subplots()\n",
    "osa_x = np.linspace(-2, 2, 50)\n",
    "osa_y = np.linspace(-2, 2, 50)\n",
    "(x,y) = np.meshgrid(osa_x,osa_y)\n",
    "z = np.exp(-np.sqrt(x**2+y**2))*np.cos(2*x)*np.sin(2*y)\n",
    "ax.contour(x,y,z)"
   ]
  },
  {
   "cell_type": "markdown",
   "id": "3ea48595",
   "metadata": {},
   "source": [
    "### 3D visualizace"
   ]
  },
  {
   "cell_type": "markdown",
   "id": "3375491d",
   "metadata": {},
   "source": [
    "Máme stejnou funkci $z(x,y)=\\exp(-\\sqrt{x^2+y^2})\\cos(2x)\\sin(2y)$, kterou nyní chceme vykreslit v 3D grafu. Nejdříve vytvoříme trojrozměrnou osu:"
   ]
  },
  {
   "cell_type": "code",
   "execution_count": 46,
   "id": "5bd8cf3e",
   "metadata": {},
   "outputs": [
    {
     "data": {
      "image/png": "[encoded data removed]",
      "text/plain": [
       "<Figure size 432x288 with 1 Axes>"
      ]
     },
     "metadata": {
      "needs_background": "light"
     },
     "output_type": "display_data"
    }
   ],
   "source": [
    "fig = plt.figure()\n",
    "ax = fig.add_subplot(1, 1, 1, projection='3d')"
   ]
  },
  {
   "cell_type": "markdown",
   "id": "764c6aaa",
   "metadata": {},
   "source": [
    "Vytvoříme mřížku $x\\times y$ pomocí funkce `meshgrid`:"
   ]
  },
  {
   "cell_type": "code",
   "execution_count": 47,
   "id": "288e3065",
   "metadata": {},
   "outputs": [],
   "source": [
    "osa_x = np.linspace(-2, 2, 50)\n",
    "osa_y = np.linspace(-2, 2, 50)\n",
    "(x,y) = np.meshgrid(osa_x,osa_y)"
   ]
  },
  {
   "cell_type": "markdown",
   "id": "37509518",
   "metadata": {},
   "source": [
    "Spočítáme hodnoty funkce $z(x,y)$:"
   ]
  },
  {
   "cell_type": "code",
   "execution_count": 48,
   "id": "20d9e183",
   "metadata": {},
   "outputs": [],
   "source": [
    "z = np.exp(-np.sqrt(x**2+y**2))*np.cos(2*x)*np.sin(2*y)"
   ]
  },
  {
   "cell_type": "markdown",
   "id": "c0d125e3",
   "metadata": {},
   "source": [
    "3D data vykreslíme pomocí funkce `plot_surface()` a přidáme popisky os:"
   ]
  },
  {
   "cell_type": "code",
   "execution_count": 49,
   "id": "981cfb7e",
   "metadata": {
    "scrolled": true
   },
   "outputs": [
    {
     "data": {
      "text/plain": [
       "[Text(0.5, 0, 'x'), Text(0.5, 0, 'y'), Text(0.5, 0, 'z')]"
      ]
     },
     "execution_count": 49,
     "metadata": {},
     "output_type": "execute_result"
    },
    {
     "data": {
      "image/png": "[encoded data removed]",
      "text/plain": [
       "<Figure size 432x288 with 1 Axes>"
      ]
     },
     "metadata": {
      "needs_background": "light"
     },
     "output_type": "display_data"
    }
   ],
   "source": [
    "fig = plt.figure()\n",
    "ax = fig.add_subplot(1, 1, 1, projection='3d')\n",
    "\n",
    "osa_x = np.linspace(-2, 2, 50)\n",
    "osa_y = np.linspace(-2, 2, 50)\n",
    "(x,y) = np.meshgrid(osa_x,osa_y)\n",
    "z = np.exp(-np.sqrt(x**2+y**2))*np.cos(2*x)*np.sin(2*y)\n",
    "\n",
    "ax.plot_surface(x, y, z)\n",
    "ax.set(xlabel='x', ylabel='y', zlabel='z')"
   ]
  },
  {
   "cell_type": "markdown",
   "id": "b8eda923",
   "metadata": {},
   "source": [
    "<div class=\"alert alert-block alert-warning\"><b>Cvičení 01.03: </b> Vykreslete průběh funkce log(<i>x</i>) pro <i>x</i> od 0.1 do 10. Osy grafu popište, přidejte legendu a obrázek uložte ve formátu *.jpg.</div>"
   ]
  },
  {
   "cell_type": "code",
   "execution_count": 50,
   "id": "c91c0296",
   "metadata": {},
   "outputs": [
    {
     "data": {
      "image/png": "[encoded data removed]",
      "text/plain": [
       "<Figure size 432x288 with 1 Axes>"
      ]
     },
     "metadata": {
      "needs_background": "light"
     },
     "output_type": "display_data"
    }
   ],
   "source": [
    "x = np.linspace(1e-1,10,100)\n",
    "y = np.log10(x)\n",
    "fig, ax = plt.subplots()\n",
    "ax.plot(x,y,label='log(10)')\n",
    "ax.set_xlabel('x')\n",
    "ax.set_ylabel('log(x)')\n",
    "ax.legend()\n",
    "fig.savefig('log10.jpg',dpi=100)"
   ]
  },
  {
   "cell_type": "markdown",
   "id": "1398abec",
   "metadata": {},
   "source": [
    "<div class=\"alert alert-block alert-info\"><b>Tip: </b> Další příklady a návody pro práci s knihovnou <code>matplotlib</code> lze nalézt na <a href='https://matplotlib.org/'>https://matplotlib.org/</a>.</div>"
   ]
  }
 ],
 "metadata": {
  "kernelspec": {
   "display_name": "Python 3 (ipykernel)",
   "language": "python",
   "name": "python3"
  },
  "language_info": {
   "codemirror_mode": {
    "name": "ipython",
    "version": 3
   },
   "file_extension": ".py",
   "mimetype": "text/x-python",
   "name": "python",
   "nbconvert_exporter": "python",
   "pygments_lexer": "ipython3",
   "version": "3.9.13"
  }
 },
 "nbformat": 4,
 "nbformat_minor": 5
}
