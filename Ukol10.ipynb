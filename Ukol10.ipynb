{
 "cells": [
  {
   "cell_type": "markdown",
   "id": "5101bfff",
   "metadata": {},
   "source": [
    "# Úkol 10"
   ]
  },
  {
   "cell_type": "markdown",
   "id": "762a171b",
   "metadata": {},
   "source": [
    "1. Vyřešete rovnici $\\dfrac{\\mathrm{d}N}{\\mathrm{d}t}=(1+\\cos t)N(t)$  z **Cvičení 10.01** Runge-Kuttovou metodou třetího řádu. **(0.5 b)**\n",
    "2. Vykreslete velikost absolutní chyby pro Runge-Kuttovou metodou třetího a čtvrtého řádu vzhledem k přesnému řešení. **(0.5 b)**"
   ]
  },
  {
   "cell_type": "code",
   "execution_count": 15,
   "id": "655a5154",
   "metadata": {},
   "outputs": [],
   "source": [
    "# kod\n",
    "\n"
   ]
  }
 ],
 "metadata": {
  "kernelspec": {
   "display_name": "Python 3 (ipykernel)",
   "language": "python",
   "name": "python3"
  },
  "language_info": {
   "codemirror_mode": {
    "name": "ipython",
    "version": 3
   },
   "file_extension": ".py",
   "mimetype": "text/x-python",
   "name": "python",
   "nbconvert_exporter": "python",
   "pygments_lexer": "ipython3",
   "version": "3.9.13"
  }
 },
 "nbformat": 4,
 "nbformat_minor": 5
}
