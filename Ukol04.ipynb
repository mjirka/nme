{
 "cells": [
  {
   "cell_type": "markdown",
   "id": "42dda3af",
   "metadata": {},
   "source": [
    "# Úkol 4"
   ]
  },
  {
   "cell_type": "markdown",
   "id": "cdc723a8",
   "metadata": {},
   "source": [
    "1. Vypočítejte determinant matice $\\mathbb{A}$ pomocí kofaktorové metody.\n",
    "\n",
    "$\\mathbb{A}=\n",
    "\\begin{pmatrix}\n",
    "2& 1& -2& -1\\\\\n",
    "1& -1& -1& 1\\\\\n",
    "4& 2& 2& 1\\\\\n",
    "8& 1& 1& 2\n",
    "\\end{pmatrix}\n",
    "$. **(0.6 b)**\n",
    "\n",
    "2. Vypočítejte determinant stejné matice $\\mathbb{A}$ jinou metodou (viz přednášky). **(0.4 b)**\n",
    "\n",
    "(Pro ověření svého řešení můžete použít funkci `np.linalg.det()`.)"
   ]
  },
  {
   "cell_type": "code",
   "execution_count": 4,
   "id": "9a52069f",
   "metadata": {},
   "outputs": [],
   "source": [
    "# kod\n"
   ]
  }
 ],
 "metadata": {
  "kernelspec": {
   "display_name": "Python 3 (ipykernel)",
   "language": "python",
   "name": "python3"
  },
  "language_info": {
   "codemirror_mode": {
    "name": "ipython",
    "version": 3
   },
   "file_extension": ".py",
   "mimetype": "text/x-python",
   "name": "python",
   "nbconvert_exporter": "python",
   "pygments_lexer": "ipython3",
   "version": "3.9.13"
  }
 },
 "nbformat": 4,
 "nbformat_minor": 5
}
