{
 "cells": [
  {
   "cell_type": "markdown",
   "id": "5101bfff",
   "metadata": {},
   "source": [
    "# Úkol 11"
   ]
  },
  {
   "cell_type": "markdown",
   "id": "762a171b",
   "metadata": {},
   "source": [
    "1. Upravte řešení úlohy ze **Cvičení 11.01** tak, aby počáteční rychlost $v_{0}$ byla nalezena metodou půlení z Vámi zadaného intervalu $v_{0}\\in \\langle v_{0}^{\\mathrm{min}},v_{0}^{\\mathrm{max}}\\rangle$. **(1.0 b)**\n",
    "2. Můžete-li, vyplňte prosím [anonymní dotazník](https://docs.google.com/forms/d/e/1FAIpQLSe1ICT-1W0B2BBi3cVBug_nbA8Aa6nCNZmCZ6pkZPHuoEMlWg/viewform?usp=sf_link) (5 otázek)."
   ]
  },
  {
   "cell_type": "code",
   "execution_count": 15,
   "id": "655a5154",
   "metadata": {},
   "outputs": [],
   "source": [
    "# kod\n",
    "\n"
   ]
  }
 ],
 "metadata": {
  "kernelspec": {
   "display_name": "Python 3 (ipykernel)",
   "language": "python",
   "name": "python3"
  },
  "language_info": {
   "codemirror_mode": {
    "name": "ipython",
    "version": 3
   },
   "file_extension": ".py",
   "mimetype": "text/x-python",
   "name": "python",
   "nbconvert_exporter": "python",
   "pygments_lexer": "ipython3",
   "version": "3.9.13"
  }
 },
 "nbformat": 4,
 "nbformat_minor": 5
}
