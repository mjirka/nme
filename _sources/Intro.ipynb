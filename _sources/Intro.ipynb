{
 "cells": [
  {
   "cell_type": "markdown",
   "id": "975186eb",
   "metadata": {
    "tags": []
   },
   "source": [
    "# Numerické metody - cvičení (12NME1)\n",
    "## KLFF FJFI ČVUT v Praze\n",
    "<!--\n",
    "## Rozvrh pro letní semestr 2022/2023\n",
    "* Středa 12:00 - 13:40\n",
    "* Trojanova 13, učebna T-105\n",
    "* Martin Jirka, jirkama1@fjfi.cvut.cz\n",
    "\n",
    "## Podmínky pro udělění zápočtu\n",
    "* maximálně 3 absence\n",
    "* zisk alespoň 60 % bodů za úkoly zadávané na cvičeních. Tyto úkoly vypracované v pythonu odevzdávejte na výše uvedený e-mail do začátku následujícího cvičení.\n",
    "\n",
    "## Úkoly\n",
    "* [Úkol z cvičení č. 1](http://kfe.fjfi.cvut.cz/~jirkama1/Ukol01.html) (zadání ve fromátu [Jupyter Notebook](http://kfe.fjfi.cvut.cz/~jirkama1/Ukol01.ipynb))\n",
    "* [Úkol z cvičení č. 2](http://kfe.fjfi.cvut.cz/~jirkama1/Ukol02.html) (zadání ve fromátu [Jupyter Notebook](http://kfe.fjfi.cvut.cz/~jirkama1/Ukol02.ipynb))\n",
    "\n",
    "## Zápočtová tabulka\n",
    "| | 1 | 2 | 3 | 4 | 5 | 6 | 7 | 8 | 9 | 10 | 11 |\n",
    "| :-: | :-: | :-: | :-: | :-: | :-: | :-: | :-: | :-: | :-: | :-: | :-: |\n",
    "| M. Benedová | X+1 |  |  |  |  |  |  |  |  |  |  |\n",
    "| R. Beňo | ?+1 |  |  |  |  |  |  |  |  |  |  |\n",
    "| M. Bělohlávek | X+1 |  |  |  |  |  |  |  |  |  |  |\n",
    "| M. Buloichyk | X+0 |  |  |  |  |  |  |  |  |  |  |\n",
    "| M. Divišová | X+1 |  |  |  |  |  |  |  |  |  |  |\n",
    "| A. Godál | X+1 |  |  |  |  |  |  |  |  |  |  |\n",
    "| F. Janeček | X+1 |  |  |  |  |  |  |  |  |  |  |\n",
    "| V. Janota | X+1 |  |  |  |  |  |  |  |  |  |  |\n",
    "| L. Karczubová | X+0 |  |  |  |  |  |  |  |  |  |  |\n",
    "| Z. Legerský | X+0 |  |  |  |  |  |  |  |  |  |  |\n",
    "| J. Macura | X+0 |  |  |  |  |  |  |  |  |  |  |\n",
    "| V. Růžičková | X+1 |  |  |  |  |  |  |  |  |  |  |\n",
    "| Š. Skalka | X+1 |  |  |  |  |  |  |  |  |  |  |\n",
    "| M. Šmíd | X+1 |  |  |  |  |  |  |  |  |  |  |\n",
    "| M. Tvrdík | X+1 |  |  |  |  |  |  |  |  |  |  |\n",
    "| S. Velichová | X+1 |  |  |  |  |  |  |  |  |  |  |\n",
    "\n",
    "Vysvětlivky: X - přítomen, N - nepřítomen, O - omluven, číslo udává počet získaných bodů za domáci úkoly\n",
    "\n",
    "//-->\n",
    "## Používané nástroje\n",
    "Na cvičeních budeme používat Python v on-line prostředí [Jupyter notebook](https://jupyter.org/). Jupyter notebook lze vytvářet a editovat on-line např. v [Google Colab](https://colab.research.google.com/). Pro vypracování úkolů a off-line práci s Jupyter notebooky na počítači je nejjednodušší nainstalovat si programový balík [Anaconda](https://www.anaconda.com/) (dostupné pro Windows/Mac/Linux), který obsahuje všechny potřebné knihovny (a navíc Python editor [spyder](https://www.spyder-ide.org/) a mnoho dalšího):\n",
    "1. [Návod na instalaci](https://docs.anaconda.com/anaconda/install/)\n",
    "2. [Návod na spuštení Jupyter notebook](https://docs.anaconda.com/anaconda/user-guide/getting-started/)\n",
    "\n",
    "**S případnými dotazy na instalaci a spuštění Jupyter Notebooku mě kontaktujte na mailu.**\n",
    "\n",
    "Materiály ke cvičením vycházejí z těchto [podkladů](http://kfe.fjfi.cvut.cz/~vachal/edu/nme/cviceni/index.html).\n",
    "\n",
    "\n",
    "***\n",
    "<div style=\"text-align: right\">Akutalizace 20.2.2025</div>"
   ]
  }
 ],
 "metadata": {
  "kernelspec": {
   "display_name": "Python 3 (ipykernel)",
   "language": "python",
   "name": "python3"
  },
  "language_info": {
   "codemirror_mode": {
    "name": "ipython",
    "version": 3
   },
   "file_extension": ".py",
   "mimetype": "text/x-python",
   "name": "python",
   "nbconvert_exporter": "python",
   "pygments_lexer": "ipython3",
   "version": "3.9.13"
  }
 },
 "nbformat": 4,
 "nbformat_minor": 5
}
