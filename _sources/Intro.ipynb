{
 "cells": [
  {
   "cell_type": "markdown",
   "id": "975186eb",
   "metadata": {},
   "source": [
    "# Numerické metody - cvičení (12NME1)\n",
    "## KFE FJFI ČVUT v Praze\n",
    "\n",
    "## Rozvrh pro letní semestr 2023/2024\n",
    "* Čtvrtek 10:00 - 11:40, 14:00 - 15:40\n",
    "* Trojanova 13, učebna T-124\n",
    "* Martin Jirka, martin.jirka@fjfi.cvut.cz\n",
    "* obecné informace o výuce a materiály k přednášce jsou [zde](http://kfe.fjfi.cvut.cz/~vachal/edu/nme/)\n",
    "\n",
    "## Podmínky pro udělění zápočtu\n",
    "* maximálně 3 absence\n",
    "* zisk alespoň 60 % bodů za úkoly zadávané na cvičeních. Tyto úkoly vypracované v pythonu odevzdávejte na výše uvedený e-mail do začátku následujícího cvičení.\n",
    "\n",
    "## Úkoly\n",
    "* [Úkol z cvičení č. 1](https://mjirka.github.io/nme/Ukol01.html) (zadání [ve formátu Jupyter Notebook](https://mjirka.github.io/nme/Ukol01.ipynb))\n",
    "* [Úkol z cvičení č. 2](https://mjirka.github.io/nme/Ukol02.html) (zadání [ve formátu Jupyter Notebook](https://mjirka.github.io/nme/Ukol02.ipynb))\n",
    "\n",
    "<!-- \n",
    "## Zápočtová tabulka\n",
    "| | 1 | 2 | 3 | 4 | 5 | 6 | 7 | 8 | 9 | 10 | 11 | Zápočet  | \n",
    "| :-: | :-: | :-: | :-: | :-: | :-: | :-: | :-: | :-: | :-: | :-: | :-: | :-: |\n",
    "| M. Benedová   | / 1 | / 1    | / 1 | / 1 | / 1 | / 1 | / 1   | / 0 | / 1   | / 0  | / 0 | |\n",
    "| R. Beňo       | - 1 | / 1    | / 1 | / 1 | / 1 | / 1 | / 1   | / 0 | / 0   | - 0  | / 0 | |\n",
    "| M. Bělohlávek | / 1 | / 1    | / 1 | / 1 | / 1 | / 1 | / 1   | / 1 | - 1   | / 1  | / 1 | |\n",
    "| M. Buloichyk  | / 1 | - 0.5  | - 1 | - 1 | / 1 | / 0 | / 0.75| / 1 | - 1   | / 0  | / 0 | |\n",
    "| M. Divišová   | / 1 | / 0.75 | / 1 | / 1 | / 1 | / 1 | / 0.75| / 1 | / 1   | / 1  | / 0 | |\n",
    "| Z. Doležal    | - 0 | / 0.75 | / 1 | / 1 | / 1 | / 1 | / 1   | / 1 | / 1   | / 1  | / 0 | |\n",
    "| A. Godál      | / 1 | / 1    | / 1 | / 1 | / 1 | / 1 | / 1   | / 1 | - 0   | - 0  | - 0 | |\n",
    "| F. Janeček    | / 1 | - 1    | / 1 | / 1 | / 1 | / 1 | / 1   | - 1 | / 1   | / 1  | - 1 | |\n",
    "| V. Janota     | / 1 | / 1    | / 1 | / 1 | / 1 | / 1 | / 1   | / 0 | - 1   | / 0  | / 0 | |\n",
    "| L. Karczubová | / 1 | / 1    | / 0 | / 0 | / 1 | / 1 | / 1   | / 1 | / 0.5 | / 1  | / 0 | |\n",
    "| Z. Legerský   | / 1 | / 0    | - 0 | / 0 | / 1 | / 1 | / 0   | / 0 | / 1   | / 1  | / 1 | |\n",
    "| J. Macura     | / 1 | / 1    | / 0 | / 1 | - 1 | / 0 | / 1   | / 1 | / 0.5 | - 0.5| / 0 | |\n",
    "| N. Majerová   | - 0 | - 0    | - 0 | - 0 | - 0 | - 0 | - 0   | - 0 | - 0   | - 0  | - 0 | |\n",
    "| V. Růžičková  | / 1 | / 1    | / 1 | / 1 | / 1 | / 1 | / 1   | / 1 | - 0   | / 0  | / 0 | |\n",
    "| Š. Skalka     | / 1 | / 1    | / 0 | / 1 | / 0 | / 1 | / 1   | - 0 | / 1   | - 0  | / 1 | |\n",
    "| L. Smejkal    | - 0 | - 0    | - 0 | - 0 | - 0 | - 0 | - 0   | - 0 | - 0   | - 0  | - 0 | |\n",
    "| M. Šmíd       | / 1 | / 0    | / 1 | / 1 | / 0 | / 1 | / 1   | / 1 | - 1   | / 1  | / 0 | |\n",
    "| O. Staněk     | - 0 | - 0    | - 0 | - 0 | - 0 | - 0 | - 0   | - 0 | - 0   | - 0  | - 0 | |\n",
    "| M. Tvrdík     | / 1 | / 0.5  | / 1 | / 1 | - 1 | / 1 | / 1   | / 1 | - 0   | / 0  | / 0 | |\n",
    "| S. Velichová  | / 1 | / 1    | / 1 | / 1 | / 1 | / 1 | / 1   | / 1 | - 0   | - 0  | / 0 | |\n",
    "\n",
    "Vysvětlivky: \"/\" přítomen, \"-\" nepřítomen, číslo udává počet získaných bodů za domáci úkoly\n",
    "//-->\n",
    "\n",
    "## Používané nástroje\n",
    "Na cvičeních budeme používat Python v on-line prostředí [Jupyter notebook](https://jupyter.org/). Jupyter notebook lze vytvářet a editovat on-line např. v [Google Colab](https://colab.research.google.com/). Pro vypracování úkolů a off-line práci s Jupyter notebooky na počítači je nejjednodušší nainstalovat si programový balík [Anaconda](https://www.anaconda.com/) (dostupné pro Windows/Mac/Linux), který obsahuje všechny potřebné knihovny (a navíc Python editor [spyder](https://www.spyder-ide.org/) a mnoho dalšího):\n",
    "1. [Návod na instalaci](https://docs.anaconda.com/anaconda/install/)\n",
    "2. [Návod na spuštení Jupyter Notebook](https://freelearning.anaconda.cloud/get-started-with-anaconda/18571)\n",
    "\n",
    "**S případnými dotazy na instalaci a spuštění Jupyter Notebooku mě kontaktujte na mailu.**\n",
    "\n",
    "Materiály ke cvičením vycházejí z těchto [podkladů](http://kfe.fjfi.cvut.cz/~vachal/edu/nme/cviceni/index.html).\n",
    "\n",
    "***\n",
    "<div style=\"text-align: right\">Akutalizace 21.02.2024</div>"
   ]
  }
 ],
 "metadata": {
  "kernelspec": {
   "display_name": "Python 3 (ipykernel)",
   "language": "python",
   "name": "python3"
  },
  "language_info": {
   "codemirror_mode": {
    "name": "ipython",
    "version": 3
   },
   "file_extension": ".py",
   "mimetype": "text/x-python",
   "name": "python",
   "nbconvert_exporter": "python",
   "pygments_lexer": "ipython3",
   "version": "3.9.13"
  }
 },
 "nbformat": 4,
 "nbformat_minor": 5
}
