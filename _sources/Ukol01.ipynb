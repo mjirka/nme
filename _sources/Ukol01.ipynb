{
 "cells": [
  {
   "cell_type": "markdown",
   "id": "d2ac9bd5",
   "metadata": {},
   "source": [
    "# Úkol 1"
   ]
  },
  {
   "cell_type": "markdown",
   "id": "ebd72918",
   "metadata": {},
   "source": [
    "1. Napište funkci počítající faktoriál $n!$ z čísla $n\\in \\mathbb{N}_0$ (bez použití knihovny `math`). **(0.3 b)**\n",
    "2. S využitím vytvořené funkce napište další funkci počítající hodnotu Eulerova čísla $e=\\sum_{n=0}^N \\dfrac{1}{n!}$ pro $N\\in \\mathbb{N}$. Vypište výsledek pro $N=20$. **(0.3 b)**\n",
    "3. Vykreslete graf funkce $f(x)=1/x$ pro $x\\in \\langle 0,1;5\\rangle$ s počtem prvků 500 a popište osy. Sečtěte obsah plochy pod grafem mezi `x[92]` a `x[267]`(což přibližně odpovídá $x\\in \\langle 1;e\\rangle$). **(0.4 b)**"
   ]
  },
  {
   "cell_type": "code",
   "execution_count": 38,
   "id": "6f6a648c",
   "metadata": {},
   "outputs": [],
   "source": [
    "# vlozte vas kod"
   ]
  }
 ],
 "metadata": {
  "kernelspec": {
   "display_name": "Python 3 (ipykernel)",
   "language": "python",
   "name": "python3"
  },
  "language_info": {
   "codemirror_mode": {
    "name": "ipython",
    "version": 3
   },
   "file_extension": ".py",
   "mimetype": "text/x-python",
   "name": "python",
   "nbconvert_exporter": "python",
   "pygments_lexer": "ipython3",
   "version": "3.9.13"
  }
 },
 "nbformat": 4,
 "nbformat_minor": 5
}
