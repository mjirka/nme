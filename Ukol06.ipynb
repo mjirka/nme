{
 "cells": [
  {
   "cell_type": "markdown",
   "id": "5101bfff",
   "metadata": {},
   "source": [
    "# Úkol 6"
   ]
  },
  {
   "cell_type": "markdown",
   "id": "762a171b",
   "metadata": {},
   "source": [
    "1. Naměřili jste hodnoty $x=\\{-5, -4, -3, -2, -1, 0, 1, 2, 3, 4, 5 \\}$ a $ y=\\{60.2, 45.3, 30.5, 11.6, 5.2, 3.1, 6.8, 13.2, 32.8, 44.7, 61.5\\} $. Naprogramujte metodu nejmenších čtverců, která hodnoty proloží polynomem 3. řádu $f(x)=a+bx+cx^{2}+dx^{3}$ a vypište koeficienty $a, b, c, d$.\n",
    "**(1.0 b)**\n",
    "\n",
    "(V kódu můžete využít funkce `np.linalg.solve()` a `np.poly1d()`. Řešení: $a \\approx 5.15$, $b \\approx 0.38$, $c \\approx 2.35$, $d \\approx -0.01$)"
   ]
  },
  {
   "cell_type": "code",
   "execution_count": null,
   "id": "655a5154",
   "metadata": {},
   "outputs": [],
   "source": [
    "# kod"
   ]
  }
 ],
 "metadata": {
  "kernelspec": {
   "display_name": "Python 3 (ipykernel)",
   "language": "python",
   "name": "python3"
  },
  "language_info": {
   "codemirror_mode": {
    "name": "ipython",
    "version": 3
   },
   "file_extension": ".py",
   "mimetype": "text/x-python",
   "name": "python",
   "nbconvert_exporter": "python",
   "pygments_lexer": "ipython3",
   "version": "3.9.13"
  }
 },
 "nbformat": 4,
 "nbformat_minor": 5
}
